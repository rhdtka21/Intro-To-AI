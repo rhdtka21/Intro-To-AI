{
  "nbformat": 4,
  "nbformat_minor": 0,
  "metadata": {
    "kernelspec": {
      "display_name": "Python 3",
      "language": "python",
      "name": "python3"
    },
    "language_info": {
      "codemirror_mode": {
        "name": "ipython",
        "version": 3
      },
      "file_extension": ".py",
      "mimetype": "text/x-python",
      "name": "python",
      "nbconvert_exporter": "python",
      "pygments_lexer": "ipython3",
      "version": "3.7.4"
    },
    "colab": {
      "name": "HW1_석정우_2015003209.ipynb",
      "provenance": [],
      "include_colab_link": true
    }
  },
  "cells": [
    {
      "cell_type": "markdown",
      "metadata": {
        "id": "view-in-github",
        "colab_type": "text"
      },
      "source": [
        "<a href=\"https://colab.research.google.com/github/rhdtka21/Intro-To-AI/blob/master/HW1_%EC%84%9D%EC%A0%95%EC%9A%B0_2015003209.ipynb\" target=\"_parent\"><img src=\"https://colab.research.google.com/assets/colab-badge.svg\" alt=\"Open In Colab\"/></a>"
      ]
    },
    {
      "cell_type": "code",
      "metadata": {
        "id": "0ZXT63LOF0fL",
        "colab_type": "code",
        "colab": {}
      },
      "source": [
        "import numpy as np\n",
        "\n",
        "v = np.array([2, 3.8, 0, 5, 1])\n",
        "u = np.exp(np.array([1,3,4,7,9]))\n",
        "w = np.arange(-10,4)\n",
        "m = np.arange(-3, 8, 2)\n",
        "n = np.arange(0, 7, 2)\n",
        "s = np.arange(0, -3.1, -0.1)\n",
        "t = np.linspace(0, np.pi, 50)"
      ],
      "execution_count": 0,
      "outputs": []
    },
    {
      "cell_type": "code",
      "metadata": {
        "id": "TEeiI3tmF0fN",
        "colab_type": "code",
        "colab": {}
      },
      "source": [
        "A = np.array([[1,2,3],[5,3,1],[7,7,7]])\n",
        "np.zeros((5,5))\n",
        "\n",
        "B = np.ones((5,5)) * 2\n",
        "\n",
        "C = np.zeros((5,5))\n",
        "for i in range(5):\n",
        "    for j in range(5):\n",
        "        if i != j:\n",
        "            C[i][j] = 5\n",
        "            \n",
        "d = np.array([1,2,3,2,1])\n",
        "D = np.zeros((5,5))\n",
        "for i in range(5):\n",
        "    for j in range(5):\n",
        "        if i == j:\n",
        "            D[i][j] = d[i]\n",
        "\n",
        "F = np.empty((1, 9), dtype=int)\n",
        "for i in range(5):\n",
        "    item = np.array([[1,2,3,4,5,6,7,8,9]])\n",
        "    F = np.append(F, item, axis=0) \n",
        "F = np.delete(F, [0, 0], axis=0).T"
      ],
      "execution_count": 0,
      "outputs": []
    },
    {
      "cell_type": "code",
      "metadata": {
        "id": "rUTkB2XiF0fQ",
        "colab_type": "code",
        "colab": {},
        "outputId": "eace5931-f766-4055-bb4a-236d3ff1a9b6"
      },
      "source": [
        "print('1. Create the following vector variables\\n\\n')\n",
        "print('v = ', v)\n",
        "print('u = ', u)\n",
        "print('w = ', w)\n",
        "print('m = ', m)\n",
        "print('n = ', n)\n",
        "print('s = ', s)\n",
        "print('t = \\n', t)\n",
        "\n",
        "print('\\n\\n2. Create the following matrix variables.\\n\\n')\n",
        "print('A = \\n', A)\n",
        "print('B = \\n', B)\n",
        "print('C = \\n', C)\n",
        "print('D = \\n', D)\n",
        "print('F = \\n', F)\n"
      ],
      "execution_count": 0,
      "outputs": [
        {
          "output_type": "stream",
          "text": [
            "1. Create the following vector variables\n",
            "\n",
            "\n",
            "v =  [2.  3.8 0.  5.  1. ]\n",
            "u =  [2.71828183e+00 2.00855369e+01 5.45981500e+01 1.09663316e+03\n",
            " 8.10308393e+03]\n",
            "w =  [-10  -9  -8  -7  -6  -5  -4  -3  -2  -1   0   1   2   3]\n",
            "m =  [-3 -1  1  3  5  7]\n",
            "n =  [0 2 4 6]\n",
            "s =  [ 0.  -0.1 -0.2 -0.3 -0.4 -0.5 -0.6 -0.7 -0.8 -0.9 -1.  -1.1 -1.2 -1.3\n",
            " -1.4 -1.5 -1.6 -1.7 -1.8 -1.9 -2.  -2.1 -2.2 -2.3 -2.4 -2.5 -2.6 -2.7\n",
            " -2.8 -2.9 -3. ]\n",
            "t = \n",
            " [0.         0.06411414 0.12822827 0.19234241 0.25645654 0.32057068\n",
            " 0.38468481 0.44879895 0.51291309 0.57702722 0.64114136 0.70525549\n",
            " 0.76936963 0.83348377 0.8975979  0.96171204 1.02582617 1.08994031\n",
            " 1.15405444 1.21816858 1.28228272 1.34639685 1.41051099 1.47462512\n",
            " 1.53873926 1.60285339 1.66696753 1.73108167 1.7951958  1.85930994\n",
            " 1.92342407 1.98753821 2.05165235 2.11576648 2.17988062 2.24399475\n",
            " 2.30810889 2.37222302 2.43633716 2.5004513  2.56456543 2.62867957\n",
            " 2.6927937  2.75690784 2.82102197 2.88513611 2.94925025 3.01336438\n",
            " 3.07747852 3.14159265]\n",
            "\n",
            "\n",
            "2. Create the following matrix variables.\n",
            "\n",
            "\n",
            "A = \n",
            " [[1 2 3]\n",
            " [5 3 1]\n",
            " [7 7 7]]\n",
            "B = \n",
            " [[2. 2. 2. 2. 2.]\n",
            " [2. 2. 2. 2. 2.]\n",
            " [2. 2. 2. 2. 2.]\n",
            " [2. 2. 2. 2. 2.]\n",
            " [2. 2. 2. 2. 2.]]\n",
            "C = \n",
            " [[0. 5. 5. 5. 5.]\n",
            " [5. 0. 5. 5. 5.]\n",
            " [5. 5. 0. 5. 5.]\n",
            " [5. 5. 5. 0. 5.]\n",
            " [5. 5. 5. 5. 0.]]\n",
            "D = \n",
            " [[1. 0. 0. 0. 0.]\n",
            " [0. 2. 0. 0. 0.]\n",
            " [0. 0. 3. 0. 0.]\n",
            " [0. 0. 0. 2. 0.]\n",
            " [0. 0. 0. 0. 1.]]\n",
            "F = \n",
            " [[1 1 1 1 1]\n",
            " [2 2 2 2 2]\n",
            " [3 3 3 3 3]\n",
            " [4 4 4 4 4]\n",
            " [5 5 5 5 5]\n",
            " [6 6 6 6 6]\n",
            " [7 7 7 7 7]\n",
            " [8 8 8 8 8]\n",
            " [9 9 9 9 9]]\n"
          ],
          "name": "stdout"
        }
      ]
    },
    {
      "cell_type": "code",
      "metadata": {
        "id": "5f-Mbk7BF0fS",
        "colab_type": "code",
        "colab": {},
        "outputId": "8e9f0a4e-f6a7-47f4-f4d1-54ac87f0404d"
      },
      "source": [
        "np.log10(np.sqrt(v))"
      ],
      "execution_count": 0,
      "outputs": [
        {
          "output_type": "stream",
          "text": [
            "C:\\ProgramData\\Anaconda3\\lib\\site-packages\\ipykernel_launcher.py:1: RuntimeWarning: divide by zero encountered in log10\n",
            "  \"\"\"Entry point for launching an IPython kernel.\n"
          ],
          "name": "stderr"
        },
        {
          "output_type": "execute_result",
          "data": {
            "text/plain": [
              "array([0.150515 , 0.2898918,      -inf, 0.349485 , 0.       ])"
            ]
          },
          "metadata": {
            "tags": []
          },
          "execution_count": 4
        }
      ]
    },
    {
      "cell_type": "code",
      "metadata": {
        "id": "NU8xCXraF0fU",
        "colab_type": "code",
        "colab": {},
        "outputId": "98952439-b4d0-4a5c-c108-ac859dfee475"
      },
      "source": [
        "np.exp(u)"
      ],
      "execution_count": 0,
      "outputs": [
        {
          "output_type": "execute_result",
          "data": {
            "text/plain": [
              "array([1.51542622e+01, 5.28491311e+08, 5.14843556e+23,            inf,\n",
              "                  inf])"
            ]
          },
          "metadata": {
            "tags": []
          },
          "execution_count": 5
        }
      ]
    },
    {
      "cell_type": "code",
      "metadata": {
        "id": "O5r_tULAF0fW",
        "colab_type": "code",
        "colab": {},
        "outputId": "4fbd1646-69f9-4647-87bb-30ccea7ce48d"
      },
      "source": [
        "np.linalg.norm(w)-3"
      ],
      "execution_count": 0,
      "outputs": [
        {
          "output_type": "execute_result",
          "data": {
            "text/plain": [
              "16.974984355438178"
            ]
          },
          "metadata": {
            "tags": []
          },
          "execution_count": 6
        }
      ]
    },
    {
      "cell_type": "code",
      "metadata": {
        "id": "fk8bFcHsF0fY",
        "colab_type": "code",
        "colab": {},
        "outputId": "e8de7978-e9f6-4c29-ee2e-3587f81f4f40"
      },
      "source": [
        "np.cos(t)"
      ],
      "execution_count": 0,
      "outputs": [
        {
          "output_type": "execute_result",
          "data": {
            "text/plain": [
              "array([ 1.        ,  0.99794539,  0.99179001,  0.98155916,  0.96729486,\n",
              "        0.94905575,  0.92691676,  0.90096887,  0.8713187 ,  0.8380881 ,\n",
              "        0.80141362,  0.76144596,  0.71834935,  0.67230089,  0.6234898 ,\n",
              "        0.57211666,  0.51839257,  0.46253829,  0.40478334,  0.34536505,\n",
              "        0.28452759,  0.22252093,  0.1595999 ,  0.09602303,  0.03205158,\n",
              "       -0.03205158, -0.09602303, -0.1595999 , -0.22252093, -0.28452759,\n",
              "       -0.34536505, -0.40478334, -0.46253829, -0.51839257, -0.57211666,\n",
              "       -0.6234898 , -0.67230089, -0.71834935, -0.76144596, -0.80141362,\n",
              "       -0.8380881 , -0.8713187 , -0.90096887, -0.92691676, -0.94905575,\n",
              "       -0.96729486, -0.98155916, -0.99179001, -0.99794539, -1.        ])"
            ]
          },
          "metadata": {
            "tags": []
          },
          "execution_count": 7
        }
      ]
    },
    {
      "cell_type": "code",
      "metadata": {
        "id": "FE-uIpVCF0fb",
        "colab_type": "code",
        "colab": {},
        "outputId": "9e08a924-8061-4513-bf06-5316b4c09611"
      },
      "source": [
        "A = A[::-1]\n",
        "A"
      ],
      "execution_count": 0,
      "outputs": [
        {
          "output_type": "execute_result",
          "data": {
            "text/plain": [
              "array([[7, 7, 7],\n",
              "       [5, 3, 1],\n",
              "       [1, 2, 3]])"
            ]
          },
          "metadata": {
            "tags": []
          },
          "execution_count": 8
        }
      ]
    },
    {
      "cell_type": "code",
      "metadata": {
        "id": "EciftwKfF0fc",
        "colab_type": "code",
        "colab": {},
        "outputId": "4a88f53d-23e9-4789-ec58-ee951f273106"
      },
      "source": [
        "B[0] = np.ones((1,5))\n",
        "B[2] = np.ones((1,5)) * 3\n",
        "B"
      ],
      "execution_count": 0,
      "outputs": [
        {
          "output_type": "execute_result",
          "data": {
            "text/plain": [
              "array([[1., 1., 1., 1., 1.],\n",
              "       [2., 2., 2., 2., 2.],\n",
              "       [3., 3., 3., 3., 3.],\n",
              "       [2., 2., 2., 2., 2.],\n",
              "       [2., 2., 2., 2., 2.]])"
            ]
          },
          "metadata": {
            "tags": []
          },
          "execution_count": 9
        }
      ]
    },
    {
      "cell_type": "code",
      "metadata": {
        "id": "QU2GwLrsF0fe",
        "colab_type": "code",
        "colab": {},
        "outputId": "74cc9de7-5171-4ad4-9019-7e933d9e79f4"
      },
      "source": [
        "D = np.delete(D, [1, 1], axis=0)\n",
        "D"
      ],
      "execution_count": 0,
      "outputs": [
        {
          "output_type": "execute_result",
          "data": {
            "text/plain": [
              "array([[1., 0., 0., 0., 0.],\n",
              "       [0., 0., 3., 0., 0.],\n",
              "       [0., 0., 0., 2., 0.],\n",
              "       [0., 0., 0., 0., 1.]])"
            ]
          },
          "metadata": {
            "tags": []
          },
          "execution_count": 10
        }
      ]
    },
    {
      "cell_type": "code",
      "metadata": {
        "id": "_nsCd9QcF0fg",
        "colab_type": "code",
        "colab": {},
        "outputId": "08eee6cb-415e-472b-82d3-0f2df60da9a2"
      },
      "source": [
        "C2 = C[-2:, :2]\n",
        "C2"
      ],
      "execution_count": 0,
      "outputs": [
        {
          "output_type": "execute_result",
          "data": {
            "text/plain": [
              "array([[5., 5.],\n",
              "       [5., 5.]])"
            ]
          },
          "metadata": {
            "tags": []
          },
          "execution_count": 11
        }
      ]
    },
    {
      "cell_type": "code",
      "metadata": {
        "id": "Q8ddnd9eF0fi",
        "colab_type": "code",
        "colab": {},
        "outputId": "47801de0-0f6b-4c86-d825-a63a5b5ca8f6"
      },
      "source": [
        "F[:, 0] = F[:, 0][::-1]\n",
        "F"
      ],
      "execution_count": 0,
      "outputs": [
        {
          "output_type": "execute_result",
          "data": {
            "text/plain": [
              "array([[9, 1, 1, 1, 1],\n",
              "       [8, 2, 2, 2, 2],\n",
              "       [7, 3, 3, 3, 3],\n",
              "       [6, 4, 4, 4, 4],\n",
              "       [5, 5, 5, 5, 5],\n",
              "       [4, 6, 6, 6, 6],\n",
              "       [3, 7, 7, 7, 7],\n",
              "       [2, 8, 8, 8, 8],\n",
              "       [1, 9, 9, 9, 9]])"
            ]
          },
          "metadata": {
            "tags": []
          },
          "execution_count": 12
        }
      ]
    }
  ]
}