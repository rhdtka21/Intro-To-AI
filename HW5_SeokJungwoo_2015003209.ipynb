{
  "nbformat": 4,
  "nbformat_minor": 0,
  "metadata": {
    "colab": {
      "name": "HW5_SeokJungwoo_2015003209.ipynb",
      "provenance": [],
      "collapsed_sections": [],
      "include_colab_link": true
    },
    "kernelspec": {
      "display_name": "Python 3",
      "language": "python",
      "name": "python3"
    },
    "language_info": {
      "codemirror_mode": {
        "name": "ipython",
        "version": 3
      },
      "file_extension": ".py",
      "mimetype": "text/x-python",
      "name": "python",
      "nbconvert_exporter": "python",
      "pygments_lexer": "ipython3",
      "version": "3.7.6"
    }
  },
  "cells": [
    {
      "cell_type": "markdown",
      "metadata": {
        "id": "view-in-github",
        "colab_type": "text"
      },
      "source": [
        "<a href=\"https://colab.research.google.com/github/rhdtka21/Intro-To-AI/blob/master/HW5_SeokJungwoo_2015003209.ipynb\" target=\"_parent\"><img src=\"https://colab.research.google.com/assets/colab-badge.svg\" alt=\"Open In Colab\"/></a>"
      ]
    },
    {
      "cell_type": "markdown",
      "metadata": {
        "colab_type": "text",
        "id": "e-c59HgQEZX7"
      },
      "source": [
        "### Load MNIST dataset from PyTorch"
      ]
    },
    {
      "cell_type": "code",
      "metadata": {
        "id": "uw51aBECT4wJ",
        "colab_type": "code",
        "colab": {}
      },
      "source": [
        "import numpy as np\n",
        "import matplotlib.pyplot as plt\n",
        "import torch\n",
        "import torchvision\n",
        "\n",
        "# MNIST dataset \n",
        "train_dataset = torchvision.datasets.MNIST(root='./data', \n",
        "                                           train=True, \n",
        "                                           download=True)\n",
        "test_dataset = torchvision.datasets.MNIST(root='./data', \n",
        "                                          train=False, \n",
        "                                          download=True)"
      ],
      "execution_count": 0,
      "outputs": []
    },
    {
      "cell_type": "markdown",
      "metadata": {
        "id": "O47TEbHcT4wM",
        "colab_type": "text"
      },
      "source": [
        "### Data type conversion"
      ]
    },
    {
      "cell_type": "code",
      "metadata": {
        "id": "9x5CYBv8T4wM",
        "colab_type": "code",
        "colab": {
          "base_uri": "https://localhost:8080/",
          "height": 195
        },
        "outputId": "97f96097-5d7a-4010-8c84-31d9e0dae7c9"
      },
      "source": [
        "# Change data type : torch.Tensor -> numpy array\n",
        "X = train_dataset.train_data.numpy()\n",
        "y = train_dataset.train_labels.numpy()\n",
        "\n",
        "X_test = test_dataset.test_data.numpy()\n",
        "y_test = test_dataset.test_labels.numpy()\n",
        "\n",
        "print('Data size (train): ' + str(X_train.shape))\n",
        "print('Data size (test): ' + str(X_test.shape))\n",
        "\n",
        "num_samples, height, width = X_train.shape\n",
        "dim = height * width"
      ],
      "execution_count": 43,
      "outputs": [
        {
          "output_type": "stream",
          "text": [
            "Data size (train): (60000, 28, 28)\n",
            "Data size (test): (10000, 28, 28)\n"
          ],
          "name": "stdout"
        },
        {
          "output_type": "stream",
          "text": [
            "/usr/local/lib/python3.6/dist-packages/torchvision/datasets/mnist.py:55: UserWarning: train_data has been renamed data\n",
            "  warnings.warn(\"train_data has been renamed data\")\n",
            "/usr/local/lib/python3.6/dist-packages/torchvision/datasets/mnist.py:45: UserWarning: train_labels has been renamed targets\n",
            "  warnings.warn(\"train_labels has been renamed targets\")\n",
            "/usr/local/lib/python3.6/dist-packages/torchvision/datasets/mnist.py:60: UserWarning: test_data has been renamed data\n",
            "  warnings.warn(\"test_data has been renamed data\")\n",
            "/usr/local/lib/python3.6/dist-packages/torchvision/datasets/mnist.py:50: UserWarning: test_labels has been renamed targets\n",
            "  warnings.warn(\"test_labels has been renamed targets\")\n"
          ],
          "name": "stderr"
        }
      ]
    },
    {
      "cell_type": "code",
      "metadata": {
        "id": "yUm1rJVQT4wO",
        "colab_type": "code",
        "colab": {
          "base_uri": "https://localhost:8080/",
          "height": 52
        },
        "outputId": "8431cf43-6742-4238-a356-f61975d84b2c"
      },
      "source": [
        "# Train Data 생성\n",
        "Xtr_01 = []\n",
        "ytr_01 = []\n",
        "for i in range(num_samples):\n",
        "  if y[i] <= 1:\n",
        "    Xtr_01.append(X[i])\n",
        "    ytr_01.append(-1 if y[i] == 0 else y[i])\n",
        "\n",
        "Xtr_01 = np.array(Xtr_01)\n",
        "ytr_01 = np.array(ytr_01)\n",
        "\n",
        "print(Xtr_01.shape, ytr_01.shape)\n",
        "\n",
        "# Test Data 생성\n",
        "Xts_01 = []\n",
        "yts_01 = []\n",
        "for i in range(10000):\n",
        "  if y_test[i] <= 1:\n",
        "    Xts_01.append(X_test[i])\n",
        "    yts_01.append(-1 if y_test[i] == 0 else y_test[i])\n",
        "\n",
        "Xts_01 = np.array(Xts_01)\n",
        "yts_01 = np.array(yts_01)  \n",
        "\n",
        "print(Xts_01.shape, yts_01.shape)"
      ],
      "execution_count": 44,
      "outputs": [
        {
          "output_type": "stream",
          "text": [
            "(12665, 28, 28) (12665,)\n",
            "(2115, 28, 28) (2115,)\n"
          ],
          "name": "stdout"
        }
      ]
    },
    {
      "cell_type": "code",
      "metadata": {
        "id": "i82TM9PIbWrI",
        "colab_type": "code",
        "colab": {
          "base_uri": "https://localhost:8080/",
          "height": 34
        },
        "outputId": "18fe425d-95e3-4b48-9a5e-7032aac142e0"
      },
      "source": [
        "Xtr_01.reshape(-1)\n",
        "Xts_01.reshape(-1)\n",
        "\n",
        "# ▷Vectorize all images by using numpy.reshape. 까지 수행함.\n",
        "\n"
      ],
      "execution_count": 45,
      "outputs": [
        {
          "output_type": "execute_result",
          "data": {
            "text/plain": [
              "array([0, 0, 0, ..., 0, 0, 0], dtype=uint8)"
            ]
          },
          "metadata": {
            "tags": []
          },
          "execution_count": 45
        }
      ]
    },
    {
      "cell_type": "code",
      "metadata": {
        "id": "tOtBLHTwblvO",
        "colab_type": "code",
        "colab": {
          "base_uri": "https://localhost:8080/",
          "height": 607
        },
        "outputId": "e12e8771-e64d-4c1f-8cdf-2c31cfb4fea4"
      },
      "source": [
        ""
      ],
      "execution_count": 46,
      "outputs": [
        {
          "output_type": "display_data",
          "data": {
            "image/png": "[encoded data removed]",
            "text/plain": [
              "<Figure size 1440x720 with 2 Axes>"
            ]
          },
          "metadata": {
            "tags": [],
            "needs_background": "light"
          }
        }
      ]
    }
  ]
}